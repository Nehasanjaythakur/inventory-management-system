{
  "nbformat": 4,
  "nbformat_minor": 0,
  "metadata": {
    "colab": {
      "name": "Untitled1.ipynb",
      "provenance": [],
      "collapsed_sections": []
    },
    "kernelspec": {
      "name": "python3",
      "display_name": "Python 3"
    },
    "language_info": {
      "name": "python"
    }
  },
  "cells": [
    {
      "cell_type": "code",
      "metadata": {
        "id": "cgAYA5EWD51J"
      },
      "source": [
        ""
      ],
      "execution_count": null,
      "outputs": []
    },
    {
      "cell_type": "markdown",
      "metadata": {
        "id": "tjGoihDHD7Nv"
      },
      "source": [
        ""
      ]
    },
    {
      "cell_type": "code",
      "metadata": {
        "id": "TOjBcMpPmpbg",
        "colab": {
          "base_uri": "https://localhost:8080/",
          "height": 128
        },
        "outputId": "ae49512a-46bc-4c80-e6db-d430ffb30c09"
      },
      "source": [
        "import json\n",
        "dct=json\n",
        "dct\n",
        "{'1001':{'name':'Choco cake','pr':100,'qn':34},\n",
        " '1002':{'name':'Milk cake','pr':800,'qn':100},\n",
        " '1003':{'name':'Drink','pr':85,'qn':100},\n",
        " '1004':{'name':'Candy','pr':5,'qn':1000},\n",
        " '1005':{'name':'Pen','pr':20,'qn':100}}\n",
        " ui_prod = str(input(\"Enter the product_id:\"))\n",
        " ui_quant = int(input(\"Enter the quantity:\"))\n",
        " if (prod in dct.keys()):\n",
        "   if (dct[ui_prod]['qn']>=ui_quant):\n",
        "     print(\"****\")\n",
        "     print(\"Product ID:\",ui_quant)\n",
        "     print(\"Name:\",dct[ui_prod]['name'])\n",
        "     print(\"Price\",dct[ui_prod]['pr'])\n",
        "     print(\"Quant:\",ui_quant)\n",
        "     print(\"-------\")\n",
        "     print(\"Billing Amount:\"ui_quant*dct[ui_prod]['pr'])\n",
        "     print(\"******\")\n",
        "     else:\n",
        "       print(\"We are having only\",dct[ui_prod]['qn'],'quantity')\n"
      ],
      "execution_count": 21,
      "outputs": [
        {
          "output_type": "error",
          "ename": "IndentationError",
          "evalue": "ignored",
          "traceback": [
            "\u001b[0;36m  File \u001b[0;32m\"<ipython-input-21-c24337b9068a>\"\u001b[0;36m, line \u001b[0;32m9\u001b[0m\n\u001b[0;31m    ui_prod = str(input(\"Enter the product_id:\"))\u001b[0m\n\u001b[0m    ^\u001b[0m\n\u001b[0;31mIndentationError\u001b[0m\u001b[0;31m:\u001b[0m unexpected indent\n"
          ]
        }
      ]
    },
    {
      "cell_type": "code",
      "metadata": {
        "id": "lGhCsgR9D75x"
      },
      "source": [
        ""
      ],
      "execution_count": null,
      "outputs": []
    }
  ]
}